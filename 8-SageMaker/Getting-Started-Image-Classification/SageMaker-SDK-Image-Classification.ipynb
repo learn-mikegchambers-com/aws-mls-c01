{
 "cells": [
  {
   "cell_type": "markdown",
   "id": "5f0f301a",
   "metadata": {},
   "source": [
    "![@mikegchambers](../../images/header.png)"
   ]
  },
  {
   "cell_type": "markdown",
   "id": "53d57c04",
   "metadata": {},
   "source": [
    "# Image Classification with SageMaker built-in algorithm\n",
    "\n",
    "In this notebook, we use the SageMaker SDK to train an image classification model from an Amazon SageMaker built-in algorithm."
   ]
  },
  {
   "cell_type": "markdown",
   "id": "ef45ee5d",
   "metadata": {},
   "source": [
    "## Import Libraries"
   ]
  },
  {
   "cell_type": "code",
   "execution_count": null,
   "id": "7860ce3d",
   "metadata": {},
   "outputs": [],
   "source": [
    "import sagemaker\n",
    "import json \n",
    "import numpy as np\n",
    "import matplotlib.pyplot as plt\n",
    "from matplotlib.pyplot import figure"
   ]
  },
  {
   "cell_type": "markdown",
   "id": "35591353",
   "metadata": {},
   "source": [
    "## Setup the SageMaker session \n",
    "\n",
    "The SageMaker SDK has some convenience methods for getting a reference to a role, setting up a session, and getting the location of a 'default' bucket that can be used."
   ]
  },
  {
   "cell_type": "code",
   "execution_count": null,
   "id": "888dd5d9",
   "metadata": {},
   "outputs": [],
   "source": [
    "role = sagemaker.get_execution_role()\n",
    "sess = sagemaker.Session()\n",
    "bucket=sess.default_bucket()"
   ]
  },
  {
   "cell_type": "markdown",
   "id": "c6cfaab1",
   "metadata": {},
   "source": [
    "## Locate Data\n",
    "\n",
    "When the SageMaker container launches, we will pass in the location of the training data.  The data is expected to be in an S3 bucket.  We set this here such that we can use it later.  The location of this data is in a publicly accessible bucket in one of my accounts.  \n",
    "\n",
    "We also set the location where we will save the completed model."
   ]
  },
  {
   "cell_type": "code",
   "execution_count": null,
   "id": "7fcfb726",
   "metadata": {},
   "outputs": [],
   "source": [
    "s3train = 's3://aws-mls-c01/cifar10/train/cifar10_train.rec'\n",
    "s3validation = 's3://aws-mls-c01/cifar10/validation/cifar10_val.rec'\n",
    "\n",
    "s3_output_location = 's3://{}/image-classificaiton/output'.format(bucket)"
   ]
  },
  {
   "cell_type": "markdown",
   "id": "27920923",
   "metadata": {},
   "source": [
    "## Define the training image\n",
    "\n",
    "Here we point SageMaker to the container we want to use.  In this case, the built in 'image-classification' algorithm/container is being used."
   ]
  },
  {
   "cell_type": "code",
   "execution_count": null,
   "id": "d32df284",
   "metadata": {},
   "outputs": [],
   "source": [
    "training_image = sagemaker.image_uris.retrieve('image-classification', region='us-east-1')"
   ]
  },
  {
   "cell_type": "markdown",
   "id": "8c6a75a9",
   "metadata": {},
   "source": [
    "## Create a SageMaker Estimator\n",
    "\n",
    "The SageMaker Estimator is one of the key object types in the SageMaker SDK.  Here we initialise the estimator specifying the instance type, how many instances we want to use, and other parameters including the use of spot instances. \n",
    "\n",
    "This is how SageMaker manages infrastructure for us with a simple SDK call to the API."
   ]
  },
  {
   "cell_type": "code",
   "execution_count": null,
   "id": "89baf91c",
   "metadata": {},
   "outputs": [],
   "source": [
    "ic = sagemaker.estimator.Estimator( training_image,\n",
    "                                    role, \n",
    "                                    instance_count=1, \n",
    "                                    instance_type='ml.p2.xlarge',\n",
    "                                    volume_size = 50,\n",
    "                                    max_run = 7200,\n",
    "                                    input_mode= 'File',\n",
    "                                    output_path=s3_output_location,\n",
    "                                    sagemaker_session=sess,\n",
    "                                    use_spot_instances=True,\n",
    "                                    max_wait=7200)"
   ]
  },
  {
   "cell_type": "markdown",
   "id": "132f63c0",
   "metadata": {},
   "source": [
    "Then we set some hyperparameters:"
   ]
  },
  {
   "cell_type": "code",
   "execution_count": null,
   "id": "1b75ebbb",
   "metadata": {},
   "outputs": [],
   "source": [
    "ic.set_hyperparameters(             use_pretrained_model=1,\n",
    "                                    num_layers=50,\n",
    "                                    image_shape = \"3,32,32\",\n",
    "                                    num_classes=10,\n",
    "                                    num_training_samples=50000,\n",
    "                                    mini_batch_size=64,\n",
    "                                    epochs=5,\n",
    "                                    learning_rate=0.001,\n",
    "                                    optimizer='adam')"
   ]
  },
  {
   "cell_type": "markdown",
   "id": "876b4f1e",
   "metadata": {},
   "source": [
    "Define our input channels:"
   ]
  },
  {
   "cell_type": "code",
   "execution_count": null,
   "id": "12828caa",
   "metadata": {},
   "outputs": [],
   "source": [
    "train_data = sagemaker.inputs.TrainingInput(     s3train, \n",
    "                                                 distribution='FullyReplicated', \n",
    "                                                 content_type='application/x-recordio', \n",
    "                                                 s3_data_type='S3Prefix')\n",
    "\n",
    "validation_data = sagemaker.inputs.TrainingInput(s3validation, \n",
    "                                                 distribution='FullyReplicated', \n",
    "                                                 content_type='application/x-recordio', \n",
    "                                                 s3_data_type='S3Prefix')\n",
    "\n",
    "data_channels = {'train': train_data, 'validation': validation_data}"
   ]
  },
  {
   "cell_type": "markdown",
   "id": "ff9fd184",
   "metadata": {},
   "source": [
    "## Train the model\n",
    "\n",
    "And finally, we call `fit` to train the model."
   ]
  },
  {
   "cell_type": "code",
   "execution_count": null,
   "id": "ef6a42c6",
   "metadata": {},
   "outputs": [],
   "source": [
    "ic.fit(inputs=data_channels)"
   ]
  },
  {
   "cell_type": "markdown",
   "id": "3350165a",
   "metadata": {},
   "source": [
    "## Create an inference endpoint\n",
    "\n",
    "Now that the model is created (and saved to S3 at `s3_output_location`) we can create an endpoint from the model, such that we can use it to make inference about new data."
   ]
  },
  {
   "cell_type": "code",
   "execution_count": null,
   "id": "39ee6fec",
   "metadata": {},
   "outputs": [],
   "source": [
    "ic_classifier = ic.deploy(initial_instance_count = 1, instance_type = 'ml.m4.xlarge')"
   ]
  },
  {
   "cell_type": "markdown",
   "id": "5b716770",
   "metadata": {},
   "source": [
    "Within the SageMaker SDK, we don't need to know the endpoint name, as we can simply reference it from the classifier we just made.  But it might be useful to know, so let's find out: "
   ]
  },
  {
   "cell_type": "code",
   "execution_count": null,
   "id": "9fb5abb9",
   "metadata": {},
   "outputs": [],
   "source": [
    "ic_classifier.endpoint_name"
   ]
  },
  {
   "cell_type": "markdown",
   "id": "2d9cdd5d",
   "metadata": {},
   "source": [
    "Now let's create some data to use for testing.  Here we set the labels, and a test image:"
   ]
  },
  {
   "cell_type": "code",
   "execution_count": null,
   "id": "aafeb045",
   "metadata": {},
   "outputs": [],
   "source": [
    "labels = ['plane', 'car', 'bird', 'cat', 'deer', 'dog', 'frog', 'horse', 'ship', 'truck']\n",
    "\n",
    "f = open('./test-images/plane.jpg', 'rb') # opening a binary file\n",
    "data = f.read()"
   ]
  },
  {
   "cell_type": "markdown",
   "id": "e69c8736",
   "metadata": {},
   "source": [
    "## Make an inference/prediction\n",
    "\n",
    "With our endpoint deployed and sample data ready, we can call `predict` and see what we find.\n",
    "\n",
    "As this model was trained quickly, don't expect anything too amazing!  If you want to improve the accuracy change some of the hyperparameters and train again.  The first thing to try is to increase the number of epochs."
   ]
  },
  {
   "cell_type": "code",
   "execution_count": null,
   "id": "c8ab7128",
   "metadata": {},
   "outputs": [],
   "source": [
    "prediction = ic_classifier.predict(data, initial_args={\"ContentType\": \"application/x-image\"})\n",
    "probs = json.loads(prediction)\n",
    "\n",
    "print(probs)"
   ]
  },
  {
   "cell_type": "markdown",
   "id": "ba5d831d",
   "metadata": {},
   "source": [
    "And make it pretty:"
   ]
  },
  {
   "cell_type": "code",
   "execution_count": null,
   "id": "7f8d9a4e",
   "metadata": {},
   "outputs": [],
   "source": [
    "figure(num=None, figsize=(8, 5), dpi=80, facecolor='w', edgecolor='k')\n",
    "plt.bar(range(10), probs)\n",
    "plt.xticks(range(10), labels)\n",
    "plt.show()"
   ]
  },
  {
   "cell_type": "code",
   "execution_count": null,
   "id": "11ea6f29",
   "metadata": {},
   "outputs": [],
   "source": [
    "index_of_prediction = np.argmax(probs)\n",
    "label_of_prediciton = labels[index_of_prediction]\n",
    "\n",
    "print(\"This looks like a {}.\".format(label_of_prediciton))"
   ]
  },
  {
   "cell_type": "markdown",
   "id": "26dac206",
   "metadata": {},
   "source": [
    "## Clean up\n",
    "\n",
    "Now let's tear down the endpoint as we are charged whilst it's up and running. "
   ]
  },
  {
   "cell_type": "code",
   "execution_count": null,
   "id": "79d78c57",
   "metadata": {},
   "outputs": [],
   "source": [
    "# ic_classifier.delete_endpoint()"
   ]
  },
  {
   "cell_type": "code",
   "execution_count": null,
   "id": "24aed7cd",
   "metadata": {},
   "outputs": [],
   "source": []
  }
 ],
 "metadata": {
  "kernelspec": {
   "display_name": "conda_python3",
   "language": "python",
   "name": "conda_python3"
  },
  "language_info": {
   "codemirror_mode": {
    "name": "ipython",
    "version": 3
   },
   "file_extension": ".py",
   "mimetype": "text/x-python",
   "name": "python",
   "nbconvert_exporter": "python",
   "pygments_lexer": "ipython3",
   "version": "3.10.13"
  }
 },
 "nbformat": 4,
 "nbformat_minor": 5
}
