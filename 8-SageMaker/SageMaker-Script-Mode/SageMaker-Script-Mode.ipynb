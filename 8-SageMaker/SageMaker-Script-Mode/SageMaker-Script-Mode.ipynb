{
 "cells": [
  {
   "cell_type": "markdown",
   "id": "0c6e39be",
   "metadata": {},
   "source": [
    "![@mikegchambers](../../images/header.png)"
   ]
  },
  {
   "cell_type": "markdown",
   "id": "f4157c10",
   "metadata": {},
   "source": [
    "# SageMaker SDK - Training a model in 'script mode' and deploying the endpoint. \n",
    "\n",
    "In this notebook we will look at how models can be trained, saved, loaded and run.  Then we will see how the same thing can be achived using the SageMaker SDK, and SageMaker managed infrastructure. \n",
    "\n",
    "This notebook represents a massively over engineered excercise, however the principles, if not the code itself, and be leveraged for much bigger projects."
   ]
  },
  {
   "cell_type": "markdown",
   "id": "8724b87b",
   "metadata": {},
   "source": [
    "# Create a dataset and save"
   ]
  },
  {
   "cell_type": "code",
   "execution_count": null,
   "id": "4e1b2241",
   "metadata": {},
   "outputs": [],
   "source": [
    "from sklearn import datasets\n",
    "import pickle"
   ]
  },
  {
   "cell_type": "code",
   "execution_count": null,
   "id": "d83b2d29",
   "metadata": {},
   "outputs": [],
   "source": [
    "X, y = datasets.make_regression(100, 1, noise=5, bias=0)"
   ]
  },
  {
   "cell_type": "code",
   "execution_count": null,
   "id": "c25527fc",
   "metadata": {},
   "outputs": [],
   "source": [
    "pickle.dump([X,y], open('./train.pickle', 'wb'))"
   ]
  },
  {
   "cell_type": "markdown",
   "id": "a601e752",
   "metadata": {},
   "source": [
    "# Create a model from the dataset"
   ]
  },
  {
   "cell_type": "code",
   "execution_count": null,
   "id": "8aa04224",
   "metadata": {},
   "outputs": [],
   "source": [
    "from sklearn.linear_model import LinearRegression\n",
    "import pickle"
   ]
  },
  {
   "cell_type": "code",
   "execution_count": null,
   "id": "00caf709",
   "metadata": {},
   "outputs": [],
   "source": [
    "[XX, yy] = pickle.load(open('./train.pickle', 'rb'))"
   ]
  },
  {
   "cell_type": "code",
   "execution_count": null,
   "id": "fc9f9158",
   "metadata": {},
   "outputs": [],
   "source": [
    "model = LinearRegression()"
   ]
  },
  {
   "cell_type": "code",
   "execution_count": null,
   "id": "47ba5aca",
   "metadata": {},
   "outputs": [],
   "source": [
    "model.fit(XX,yy)"
   ]
  },
  {
   "cell_type": "markdown",
   "id": "0f0ba432",
   "metadata": {},
   "source": [
    "## Make a test prediction"
   ]
  },
  {
   "cell_type": "code",
   "execution_count": null,
   "id": "ee21fc81",
   "metadata": {},
   "outputs": [],
   "source": [
    "model.predict([[0],[1],[2],[3]])"
   ]
  },
  {
   "cell_type": "markdown",
   "id": "e8d7df6e",
   "metadata": {},
   "source": [
    "# Save the model to a file"
   ]
  },
  {
   "cell_type": "code",
   "execution_count": null,
   "id": "fb971804",
   "metadata": {},
   "outputs": [],
   "source": [
    "p = pickle.dumps(model)"
   ]
  },
  {
   "cell_type": "code",
   "execution_count": null,
   "id": "fe2d9f92",
   "metadata": {},
   "outputs": [],
   "source": [
    "pickle.dump(model, open('./model.pickle', 'wb'))"
   ]
  },
  {
   "cell_type": "markdown",
   "id": "cbaa7fed",
   "metadata": {},
   "source": [
    "# Later load the model from a file"
   ]
  },
  {
   "cell_type": "code",
   "execution_count": null,
   "id": "be9d2abf",
   "metadata": {},
   "outputs": [],
   "source": [
    "from sklearn.linear_model import LinearRegression\n",
    "import pickle"
   ]
  },
  {
   "cell_type": "code",
   "execution_count": null,
   "id": "94e63048",
   "metadata": {},
   "outputs": [],
   "source": [
    "loaded_model = pickle.load(open('./model.pickle', 'rb'))"
   ]
  },
  {
   "cell_type": "markdown",
   "id": "8cbb920e",
   "metadata": {},
   "source": [
    "## Make a test prediction"
   ]
  },
  {
   "cell_type": "code",
   "execution_count": null,
   "id": "65309fa2",
   "metadata": {},
   "outputs": [],
   "source": [
    "loaded_model.predict([[0],[1],[2],[3]])"
   ]
  },
  {
   "cell_type": "markdown",
   "id": "ff76dfd2",
   "metadata": {},
   "source": [
    "# SageMaker Training"
   ]
  },
  {
   "cell_type": "code",
   "execution_count": null,
   "id": "5ff80053",
   "metadata": {},
   "outputs": [],
   "source": [
    "import sagemaker\n",
    "from sagemaker.sklearn.estimator import SKLearn\n",
    "import boto3\n",
    "import os"
   ]
  },
  {
   "cell_type": "markdown",
   "id": "cc493735",
   "metadata": {},
   "source": [
    "Create some variables that will be used through this process:"
   ]
  },
  {
   "cell_type": "code",
   "execution_count": null,
   "id": "39b1aac9",
   "metadata": {},
   "outputs": [],
   "source": [
    "role = sagemaker.get_execution_role()\n",
    "sess = sagemaker.Session()\n",
    "bucket = sess.default_bucket()\n",
    "\n",
    "s3_prefix = \"script-mode-workflow\"\n",
    "pickle_s3_prefix = f\"{s3_prefix}/pickle\"\n",
    "pickle_s3_uri = f\"s3://{bucket}/{s3_prefix}/pickle\"\n",
    "pickle_train_s3_uri = f\"{pickle_s3_uri}/train\"\n",
    "\n",
    "train_dir = os.path.join(os.getcwd(), \"\")"
   ]
  },
  {
   "cell_type": "markdown",
   "id": "ccfe3382",
   "metadata": {},
   "source": [
    "Upload the training data to S3, so it's available for SageMaker training:"
   ]
  },
  {
   "cell_type": "code",
   "execution_count": null,
   "id": "63900fff",
   "metadata": {},
   "outputs": [],
   "source": [
    "s3_resource_bucket = boto3.Session().resource(\"s3\").Bucket(bucket)\n",
    "s3_resource_bucket.Object(os.path.join(pickle_s3_prefix, \"train.pickle\")).upload_file(\n",
    "    train_dir + \"/train.pickle\"\n",
    ")"
   ]
  },
  {
   "cell_type": "markdown",
   "id": "aa276651",
   "metadata": {},
   "source": [
    "Create some hyperparameters:"
   ]
  },
  {
   "cell_type": "code",
   "execution_count": null,
   "id": "08b12c05",
   "metadata": {},
   "outputs": [],
   "source": [
    "# This is not required as these values are the defaults:\n",
    "\n",
    "hyperparameters = {\n",
    "    \"copy_X\": True,\n",
    "    \"fit_intercept\": True,\n",
    "    \"normalize\": False,\n",
    "}"
   ]
  },
  {
   "cell_type": "markdown",
   "id": "4c8139b1",
   "metadata": {},
   "source": [
    "More configuration for the model:"
   ]
  },
  {
   "cell_type": "code",
   "execution_count": null,
   "id": "5f3444ff",
   "metadata": {},
   "outputs": [],
   "source": [
    "train_instance_type = \"ml.m5.large\"\n",
    "\n",
    "inputs = {\n",
    "    \"train\": pickle_train_s3_uri\n",
    "}"
   ]
  },
  {
   "cell_type": "markdown",
   "id": "e75f39d3",
   "metadata": {},
   "source": [
    "The SageMaker Estimator object is a high level interface for SageMaker training.  This object represents the algorithm, the data, and other configuration. \n",
    "\n",
    "https://sagemaker.readthedocs.io/en/stable/api/training/estimators.html"
   ]
  },
  {
   "cell_type": "code",
   "execution_count": null,
   "id": "3989d745",
   "metadata": {},
   "outputs": [],
   "source": [
    "estimator_parameters = {\n",
    "    \"entry_point\": \"script.py\",\n",
    "    \"source_dir\": \"script\",\n",
    "    \"framework_version\": \"0.23-1\",\n",
    "    \"py_version\": \"py3\",\n",
    "    \"instance_type\": train_instance_type,\n",
    "    \"instance_count\": 1,\n",
    "    \"hyperparameters\": hyperparameters,\n",
    "    \"role\": role,\n",
    "    \"base_job_name\": \"linearregression-model\",\n",
    "}\n",
    "\n",
    "estimator = SKLearn(**estimator_parameters)"
   ]
  },
  {
   "cell_type": "markdown",
   "id": "a3d5035f",
   "metadata": {},
   "source": [
    "When we call 'fit' SageMaker will spin up managed containers, transfer the code and data to the container and then start the training.  All this happens off of the notebook server.  We can watch the training through the console, and watch the logs in CloudWatch Logs."
   ]
  },
  {
   "cell_type": "code",
   "execution_count": null,
   "id": "1869306e",
   "metadata": {},
   "outputs": [],
   "source": [
    "estimator.fit(inputs)"
   ]
  },
  {
   "cell_type": "markdown",
   "id": "f411616f",
   "metadata": {},
   "source": [
    "# SageMaker Endpoint"
   ]
  },
  {
   "cell_type": "markdown",
   "id": "e34a55be",
   "metadata": {},
   "source": [
    "We can now take create a 'predictor' by deploying the estimator.  Then we can use it to make new predictions.\n",
    "\n",
    "(Make sure that the 'endpoint_name' used is not currently running.)"
   ]
  },
  {
   "cell_type": "code",
   "execution_count": null,
   "id": "b533cac4",
   "metadata": {},
   "outputs": [],
   "source": [
    "sklearn_predictor = estimator.deploy(initial_instance_count=1,\n",
    "                                     instance_type='ml.m5.large',\n",
    "                                     endpoint_name='linearregression-endpoint')"
   ]
  },
  {
   "cell_type": "code",
   "execution_count": null,
   "id": "e637516c",
   "metadata": {},
   "outputs": [],
   "source": [
    "sklearn_predictor.predict([[0],[1],[2],[3]])"
   ]
  },
  {
   "cell_type": "markdown",
   "id": "ec0a73ee",
   "metadata": {},
   "source": [
    "## Clean up"
   ]
  },
  {
   "cell_type": "markdown",
   "id": "a79fc5a4",
   "metadata": {},
   "source": [
    "Running this cell will remove the endpoint and configuration:"
   ]
  },
  {
   "cell_type": "code",
   "execution_count": null,
   "id": "d7132c89",
   "metadata": {},
   "outputs": [],
   "source": [
    "sklearn_predictor.delete_endpoint(True)"
   ]
  },
  {
   "cell_type": "code",
   "execution_count": null,
   "id": "2ebde47f",
   "metadata": {},
   "outputs": [],
   "source": []
  }
 ],
 "metadata": {
  "kernelspec": {
   "display_name": "conda_python3",
   "language": "python",
   "name": "conda_python3"
  },
  "language_info": {
   "codemirror_mode": {
    "name": "ipython",
    "version": 3
   },
   "file_extension": ".py",
   "mimetype": "text/x-python",
   "name": "python",
   "nbconvert_exporter": "python",
   "pygments_lexer": "ipython3",
   "version": "3.10.13"
  }
 },
 "nbformat": 4,
 "nbformat_minor": 5
}
