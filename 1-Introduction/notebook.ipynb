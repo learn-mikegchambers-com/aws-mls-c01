{
 "cells": [
  {
   "cell_type": "markdown",
   "metadata": {},
   "source": [
    "![@mikegchambers](../images/header.png)"
   ]
  },
  {
   "cell_type": "markdown",
   "metadata": {},
   "source": [
    "# This is a Jupyter Notebook"
   ]
  },
  {
   "cell_type": "markdown",
   "metadata": {},
   "source": [
    "Hello, welcome to this Jupyter notebook.  \n",
    "\n",
    "Jupyter notebooks could be described as the wiki of scripting.  You will see in this notebook, that it's divided into cells.  Each cell contains either 'text' (like this one), or 'code'.   What makes a Jupyter notebook special is that you can run the code right here in the notebook. \n",
    "\n",
    "Often, and in this case, Jupyter notebook code is written in Python (but it doesn't have to be).\n",
    "\n",
    "Take a look at the example in the next cell:"
   ]
  },
  {
   "cell_type": "code",
   "execution_count": null,
   "metadata": {
    "tags": []
   },
   "outputs": [],
   "source": [
    "print(\"Hello I am Python!\")"
   ]
  },
  {
   "cell_type": "markdown",
   "metadata": {},
   "source": [
    "Text cells are written using 'markdown' syntax.  So that means you can include:\n",
    "\n",
    "# titles\n",
    "\n",
    "- and\n",
    "- bulleted\n",
    "- lists\n",
    "\n",
    "And even images, like this one of me drinking some tea:\n",
    "\n",
    "![Time for tea](lego-mike.jpg)"
   ]
  },
  {
   "cell_type": "markdown",
   "metadata": {},
   "source": [
    "# Libraries \n",
    "\n",
    "Before we create our first machine learning model, let me introduce some Python libraries that we will be using throughout this notebook and the rest of the course."
   ]
  },
  {
   "cell_type": "markdown",
   "metadata": {},
   "source": [
    "## Numpy\n",
    "\n",
    "In machine learning, we spend a lot of time dealing with large arrays of numbers.  While Python can deal with arrays and lists just fine, Numpy turbo boosts its capabilities.  Or as the official site says:\n",
    "\n",
    "_\"NumPy is a library for the Python programming language, adding support for large, multi-dimensional arrays and matrices, along with a large collection of high-level mathematical functions to operate on these arrays.\"_"
   ]
  },
  {
   "cell_type": "markdown",
   "metadata": {},
   "source": [
    "Here is a normal Python array (list):"
   ]
  },
  {
   "cell_type": "code",
   "execution_count": null,
   "metadata": {
    "tags": []
   },
   "outputs": [],
   "source": [
    "a = [1,2,3,4,5]\n",
    "print(a);"
   ]
  },
  {
   "cell_type": "markdown",
   "metadata": {},
   "source": [
    "Here is a Numpy array:  _(It doesn't look much different, but its way more powerful.   Also other libraries that we will end up using natively support Numpy arrays, and that mostly why we use them too. )_"
   ]
  },
  {
   "cell_type": "code",
   "execution_count": null,
   "metadata": {
    "tags": []
   },
   "outputs": [],
   "source": [
    "import numpy as np\n",
    "\n",
    "b = np.array([1,2,3,4,5])\n",
    "print(b);"
   ]
  },
  {
   "cell_type": "markdown",
   "metadata": {},
   "source": [
    "## Matplotlib\n",
    "\n",
    "See what's going on inside out data is super useful, especially when we're dealing with large datasets.  Matplotlib makes it easy to create graphs of our data for display right within the Jupyter notebook.  Or as the Wikipedia says:\n",
    "\n",
    "_\"Matplotlib is a plotting library for the Python programming language and its numerical mathematics extension NumPy. It provides an object-oriented API for embedding plots into applications using general-purpose GUI toolkits like Tkinter, wxPython, Qt, or GTK+.\"_\n",
    "\n",
    "_(Just as with Numpy, other Python libraries also use Matplotlib to display their output.) _"
   ]
  },
  {
   "cell_type": "code",
   "execution_count": null,
   "metadata": {
    "tags": []
   },
   "outputs": [],
   "source": [
    "import matplotlib.pyplot as plt"
   ]
  },
  {
   "cell_type": "markdown",
   "metadata": {},
   "source": [
    "Let's use Matplotlib to graph our Python array against our Numpy array.  That should make a nice straight line:"
   ]
  },
  {
   "cell_type": "code",
   "execution_count": null,
   "metadata": {
    "tags": []
   },
   "outputs": [],
   "source": [
    "plt.plot(a,b)\n",
    "plt.show()"
   ]
  },
  {
   "cell_type": "markdown",
   "metadata": {},
   "source": [
    "We can make the graph look even nicer by adding some titles to it:"
   ]
  },
  {
   "cell_type": "code",
   "execution_count": null,
   "metadata": {
    "scrolled": true,
    "tags": []
   },
   "outputs": [],
   "source": [
    "plt.plot(a,b)\n",
    "plt.title('My Graph')\n",
    "plt.ylabel('some numbers')\n",
    "plt.xlabel('other numbers')\n",
    "plt.show()"
   ]
  },
  {
   "cell_type": "markdown",
   "metadata": {},
   "source": [
    "## Pandas\n",
    "\n",
    "In addition to Numpy, we use Pandas to help us manipulate large datasets in Python.    Pandas make it very easy to load and save data to and from files in our notebook.   Or as Wikipedia says:\n",
    "\n",
    "_\"In computer programming, pandas is a software library written for the Python programming language for data manipulation and analysis. In particular, it offers data structures and operations for manipulating numerical tables and time series. It is free software released under the three-clause BSD license.\"_"
   ]
  },
  {
   "cell_type": "code",
   "execution_count": null,
   "metadata": {
    "tags": []
   },
   "outputs": [],
   "source": [
    "# UPDATE: To prevent a warning about an outdated version of a library called 'numexpr' we will update that library here:\n",
    "# Note we are using the '!' at the start of this line to run a command on the command line.  'pip install' will install a Python poackage.\n",
    "!pip install numexpr==2.8.0"
   ]
  },
  {
   "cell_type": "code",
   "execution_count": null,
   "metadata": {
    "tags": []
   },
   "outputs": [],
   "source": [
    "import pandas as pd"
   ]
  },
  {
   "cell_type": "markdown",
   "metadata": {},
   "source": [
    "Let's use Pandas to load some data into our running notebook environment:"
   ]
  },
  {
   "cell_type": "code",
   "execution_count": null,
   "metadata": {
    "tags": []
   },
   "outputs": [],
   "source": [
    "df = pd.read_csv(\"data.csv\")\n",
    "df.head()"
   ]
  },
  {
   "cell_type": "markdown",
   "metadata": {},
   "source": [
    "And now let's use Pandas (which in turn uses Matplotlib) to graph the data:"
   ]
  },
  {
   "cell_type": "code",
   "execution_count": null,
   "metadata": {
    "tags": []
   },
   "outputs": [],
   "source": [
    "df.plot(kind='scatter',x='Height',y='Food',color='blue')"
   ]
  },
  {
   "cell_type": "markdown",
   "metadata": {},
   "source": [
    "## scikit-learn\n",
    "\n",
    "This is where the serious business starts.  Scikit-learn is a machine learning library developed for Python.  Scikit-learn has all the tools we need to be able to create algorithms, train models, and make inferences.  In addition to this, scikit-learn also has many algorithms built-in, so we can get started very quickly.    \n",
    "\n",
    "_(Heard of TensorFlow?  Well, scikit-learn is the same kind of thing, except its often a little easier to get started with.)_"
   ]
  },
  {
   "cell_type": "code",
   "execution_count": null,
   "metadata": {
    "tags": []
   },
   "outputs": [],
   "source": [
    "import sklearn.linear_model"
   ]
  },
  {
   "cell_type": "markdown",
   "metadata": {},
   "source": [
    "First, let's load a linear learner algorithm object straight out of scikit-learn."
   ]
  },
  {
   "cell_type": "code",
   "execution_count": null,
   "metadata": {
    "tags": []
   },
   "outputs": [],
   "source": [
    "model = sklearn.linear_model.LinearRegression()"
   ]
  },
  {
   "cell_type": "markdown",
   "metadata": {},
   "source": [
    "Now we call 'fit' on that algorithm passing in the training data.  Take a look at how the data is passed in.   First, we pass a list of 'features'.  We only have one feature, 'height', so why do we use a list?  Next, we pass in our 'label' which in our case is 'food', this is not a list, why?"
   ]
  },
  {
   "cell_type": "code",
   "execution_count": null,
   "metadata": {
    "tags": []
   },
   "outputs": [],
   "source": [
    "model.fit(df[['Height']], df['Food'])"
   ]
  },
  {
   "cell_type": "markdown",
   "metadata": {},
   "source": [
    "Great, our model is now trained on our data.  Now what?  Well, we can weave some code to draw both our data points and the model line on a graph.  Don't worry about the details of how this is done, but, the code is here for you to look through:"
   ]
  },
  {
   "cell_type": "code",
   "execution_count": null,
   "metadata": {
    "tags": []
   },
   "outputs": [],
   "source": [
    "axes = plt.axes()\n",
    "\n",
    "# Plot the data points:\n",
    "axes.scatter(x=df['Height'], y=df['Food'])\n",
    "\n",
    "# Get the slope and the x intercept of the model line:\n",
    "slope = model.coef_[0]\n",
    "intercept = model.intercept_\n",
    "\n",
    "# Plot the line (remember y=mx+c?):\n",
    "x = np.linspace(10,25)\n",
    "y = slope*x+intercept\n",
    "axes.plot(x, y, 'r')\n",
    "\n",
    "# Make the graph look nice:\n",
    "plt.title('Animal Rescue - Food Chart')\n",
    "axes.set_xlabel('Height')\n",
    "axes.set_ylabel('Food')\n",
    "\n",
    "plt.show()"
   ]
  },
  {
   "cell_type": "markdown",
   "metadata": {},
   "source": [
    "Finally, let's use our model to make predictions about new dogs:"
   ]
  },
  {
   "cell_type": "code",
   "execution_count": null,
   "metadata": {
    "tags": []
   },
   "outputs": [],
   "source": [
    "height = 15\n",
    "\n",
    "# scikit-learn expects a list of lists:\n",
    "predict_df = pd.DataFrame({'Height': [height]}) # <- Note this line has been upadted to fix a warning that was thrown by a newer version of the library used.\n",
    "\n",
    "# Call predict to get the prediction, note the output is also a list:\n",
    "food = model.predict(predict_df)[0] # <- Note this line has been upadted to fix a warning that was thrown by a newer version of the library used.\n",
    "\n",
    "# Print the information back to the user\n",
    "print ( \"A dog of height %.2f will eat %.2f food!\" % (height, food))"
   ]
  },
  {
   "cell_type": "markdown",
   "metadata": {},
   "source": [
    "Congratulations, you created a machine learning model!  The first of many :)"
   ]
  },
  {
   "cell_type": "code",
   "execution_count": null,
   "metadata": {},
   "outputs": [],
   "source": []
  }
 ],
 "metadata": {
  "kernelspec": {
   "display_name": "conda_python3",
   "language": "python",
   "name": "conda_python3"
  },
  "language_info": {
   "codemirror_mode": {
    "name": "ipython",
    "version": 3
   },
   "file_extension": ".py",
   "mimetype": "text/x-python",
   "name": "python",
   "nbconvert_exporter": "python",
   "pygments_lexer": "ipython3",
   "version": "3.10.13"
  }
 },
 "nbformat": 4,
 "nbformat_minor": 4
}
